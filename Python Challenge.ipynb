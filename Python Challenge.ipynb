{
 "cells": [
  {
   "cell_type": "code",
   "execution_count": 1,
   "metadata": {},
   "outputs": [],
   "source": [
    "import pandas as pd\n",
    "from enum import Enum\n",
    "import unittest"
   ]
  },
  {
   "cell_type": "code",
   "execution_count": 2,
   "metadata": {},
   "outputs": [],
   "source": [
    "class Result(Enum):\n",
    "    WIN = 1\n",
    "    LOSS = 0"
   ]
  },
  {
   "cell_type": "code",
   "execution_count": 3,
   "metadata": {},
   "outputs": [],
   "source": [
    "card_denom_mapping = {\n",
    "    'T': '10',\n",
    "    'J': '11',\n",
    "    'Q': '12',\n",
    "    'K': '13',\n",
    "    'A': '14'\n",
    "}"
   ]
  },
  {
   "cell_type": "code",
   "execution_count": 4,
   "metadata": {},
   "outputs": [],
   "source": [
    "def replace_card_denom(card_denom):\n",
    "    if card_denom in card_denom_mapping:\n",
    "        card_denom = card_denom_mapping[card_denom]\n",
    "    return int(card_denom)"
   ]
  },
  {
   "cell_type": "code",
   "execution_count": 5,
   "metadata": {},
   "outputs": [],
   "source": [
    "class PokerHand():\n",
    "    def __init__(self, hand):\n",
    "        self.str_hand = hand\n",
    "        self.ranking, self.tie_breaker = self.rate_poker_hand(hand)\n",
    "        \n",
    "    def rate_poker_hand(self, hand):\n",
    "        arr_hand = [[replace_card_denom(card[0]), card[1]] for card in hand.split()]\n",
    "        df = pd.DataFrame(arr_hand, columns=['denomination','suit'])\n",
    "        group_suit = df.groupby('suit').count()\n",
    "\n",
    "        # If there is only one group then the five cards \n",
    "        # belong to an unique suit (it is a Flush)\n",
    "        if group_suit.shape[0] == 1:\n",
    "            \n",
    "            # Sort by denomination to see if the cards\n",
    "            # are in denomination sequence\n",
    "            df = df.sort_values(['denomination'])\n",
    "\n",
    "            # Difference between \n",
    "            flush = df['denomination'].diff()[1:].unique()\n",
    "\n",
    "            # If 1 is the only value, the cards are in denomination sequence\n",
    "            if flush.shape[0] == 1 and flush[0] == 1:\n",
    "                # If the max card is A then we have a ROYAL STRAIGHT FLUSH\n",
    "                if df['denomination'].max() == 14:\n",
    "                    ranking=10\n",
    "                # If the max card is different than A \n",
    "                # then we have a STRAIGHT FLUSH\n",
    "                else:\n",
    "                    ranking=9\n",
    "            # The cards are not in denomination sequence so we have a FLUSH \n",
    "            else:\n",
    "                ranking=6\n",
    "        else:\n",
    "            group_denom = df.groupby('denomination').count()\n",
    "\n",
    "            if group_denom.shape[0] == 2:\n",
    "                if int(group_denom.max()) == 4:\n",
    "                    ranking=8\n",
    "                else:\n",
    "                    ranking=7\n",
    "            elif group_denom.shape[0] == 3:\n",
    "                if int(group_denom.max()) == 3:\n",
    "                    ranking=4\n",
    "                else:\n",
    "                    ranking=3\n",
    "            elif group_denom.shape[0] == 4:\n",
    "                ranking=2\n",
    "            else:\n",
    "                df = df.sort_values(['denomination'])\n",
    "                flush = df['denomination'].diff()[1:].unique()\n",
    "                # If 1 is the only value, the cards are in denomination sequence\n",
    "                # so we have a Straight\n",
    "                if flush.shape[0] == 1 and flush[0] == 1:\n",
    "                    ranking=5\n",
    "                else:\n",
    "                    ranking=1\n",
    "\n",
    "        return ranking, df['denomination'].sort_values(ascending=False)\n",
    "    \n",
    "    def compare_with(self, otherHand):\n",
    "        if self.ranking > otherHand.ranking:  \n",
    "            return Result.WIN\n",
    "        elif self.ranking < otherHand.ranking:\n",
    "            return Result.LOSS\n",
    "        else:\n",
    "            for i in range(len(self.tie_breaker)):\n",
    "                if self.tie_breaker[i] > otherHand.tie_breaker[i]:\n",
    "                    return Result.WIN\n",
    "                elif self.tie_breaker[i] < otherHand.tie_breaker[i]:\n",
    "                    return Result.LOSS\n",
    "            return None"
   ]
  },
  {
   "cell_type": "code",
   "execution_count": 6,
   "metadata": {},
   "outputs": [],
   "source": [
    "class TestPokerHand(unittest.TestCase):\n",
    "\n",
    "    def test_comparison(self):\n",
    "        self.assertTrue(PokerHand(\"TC TH 5C 5H KH\").compare_with(PokerHand(\"9C 9H 5C 5H AC\")) == Result.WIN)\n",
    "        self.assertTrue(PokerHand(\"TS TD KC JC 7C\").compare_with(PokerHand(\"JS JC AS KC TD\")) == Result.LOSS)\n",
    "        self.assertTrue(PokerHand(\"7H 7C QC JS TS\").compare_with(PokerHand(\"7D 7C JS TS 6D\")) == Result.WIN)\n",
    "        self.assertTrue(PokerHand(\"5S 5D 8C 7S 6H\").compare_with(PokerHand(\"7D 7S 5S 5D JS\")) == Result.LOSS)\n",
    "        self.assertTrue(PokerHand(\"AS AD KD 7C 3D\").compare_with(PokerHand(\"AD AH KD 7C 4S\")) == Result.LOSS)\n",
    "        self.assertTrue(PokerHand(\"TS JS QS KS AS\").compare_with(PokerHand(\"AC AH AS AS KS\")) == Result.WIN)\n",
    "        self.assertTrue(PokerHand(\"TS JS QS KS AS\").compare_with(PokerHand(\"TC JS QC KS AC\")) == Result.WIN)\n",
    "        self.assertTrue(PokerHand(\"TS JS QS KS AS\").compare_with(PokerHand(\"QH QS QC AS 8H\")) == Result.WIN)\n",
    "        self.assertTrue(PokerHand(\"AC AH AS AS KS\").compare_with(PokerHand(\"TC JS QC KS AC\")) == Result.WIN)\n",
    "        self.assertTrue(PokerHand(\"AC AH AS AS KS\").compare_with(PokerHand(\"QH QS QC AS 8H\")) == Result.WIN)\n",
    "        self.assertTrue(PokerHand(\"TC JS QC KS AC\").compare_with(PokerHand(\"QH QS QC AS 8H\")) == Result.WIN)\n",
    "        self.assertTrue(PokerHand(\"7H 8H 9H TH JH\").compare_with(PokerHand(\"JH JC JS JD TH\")) == Result.WIN)\n",
    "        self.assertTrue(PokerHand(\"7H 8H 9H TH JH\").compare_with(PokerHand(\"4H 5H 9H TH JH\")) == Result.WIN)\n",
    "        self.assertTrue(PokerHand(\"7H 8H 9H TH JH\").compare_with(PokerHand(\"7C 8S 9H TH JH\")) == Result.WIN)\n",
    "        self.assertTrue(PokerHand(\"7H 8H 9H TH JH\").compare_with(PokerHand(\"TS TH TD JH JD\")) == Result.WIN)\n",
    "        self.assertTrue(PokerHand(\"7H 8H 9H TH JH\").compare_with(PokerHand(\"JH JD TH TC 4C\")) == Result.WIN)\n",
    "        self.assertTrue(PokerHand(\"JH JC JS JD TH\").compare_with(PokerHand(\"4H 5H 9H TH JH\")) == Result.WIN)\n",
    "        self.assertTrue(PokerHand(\"JH JC JS JD TH\").compare_with(PokerHand(\"7C 8S 9H TH JH\")) == Result.WIN)\n",
    "        self.assertTrue(PokerHand(\"JH JC JS JD TH\").compare_with(PokerHand(\"TS TH TD JH JD\")) == Result.WIN)\n",
    "        self.assertTrue(PokerHand(\"JH JC JS JD TH\").compare_with(PokerHand(\"JH JD TH TC 4C\")) == Result.WIN)\n",
    "        self.assertTrue(PokerHand(\"4H 5H 9H TH JH\").compare_with(PokerHand(\"7C 8S 9H TH JH\")) == Result.WIN)\n",
    "        self.assertTrue(PokerHand(\"4H 5H 9H TH JH\").compare_with(PokerHand(\"TS TH TD JH JD\")) == Result.LOSS)\n",
    "        self.assertTrue(PokerHand(\"4H 5H 9H TH JH\").compare_with(PokerHand(\"JH JD TH TC 4C\")) == Result.WIN)\n",
    "        self.assertTrue(PokerHand(\"7C 8S 9H TH JH\").compare_with(PokerHand(\"TS TH TD JH JD\")) == Result.LOSS)\n",
    "        self.assertTrue(PokerHand(\"7C 8S 9H TH JH\").compare_with(PokerHand(\"JH JD TH TC 4C\")) == Result.WIN)\n",
    "        self.assertTrue(PokerHand(\"TS TH TD JH JD\").compare_with(PokerHand(\"JH JD TH TC 4C\")) == Result.WIN)"
   ]
  },
  {
   "cell_type": "code",
   "execution_count": 7,
   "metadata": {},
   "outputs": [],
   "source": [
    "TestPokerHand().test_comparison()"
   ]
  },
  {
   "cell_type": "code",
   "execution_count": null,
   "metadata": {},
   "outputs": [],
   "source": []
  }
 ],
 "metadata": {
  "kernelspec": {
   "display_name": "Python 3",
   "language": "python",
   "name": "python3"
  },
  "language_info": {
   "codemirror_mode": {
    "name": "ipython",
    "version": 3
   },
   "file_extension": ".py",
   "mimetype": "text/x-python",
   "name": "python",
   "nbconvert_exporter": "python",
   "pygments_lexer": "ipython3",
   "version": "3.7.4"
  }
 },
 "nbformat": 4,
 "nbformat_minor": 2
}
